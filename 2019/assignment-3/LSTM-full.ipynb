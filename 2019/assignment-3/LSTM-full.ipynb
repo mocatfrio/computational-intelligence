{
  "nbformat": 4,
  "nbformat_minor": 0,
  "metadata": {
    "colab": {
      "name": "LSTM-full.ipynb",
      "provenance": [],
      "collapsed_sections": []
    },
    "kernelspec": {
      "name": "python3",
      "display_name": "Python 3"
    }
  },
  "cells": [
    {
      "cell_type": "code",
      "metadata": {
        "id": "f2nOyiE-iMw7",
        "colab_type": "code",
        "outputId": "e6d4e141-f2ee-4b0e-97e2-adf146b4ff66",
        "colab": {
          "base_uri": "https://localhost:8080/",
          "height": 63
        }
      },
      "source": [
        "## import required packages\n",
        "\n",
        "# basic python libraries \n",
        "import os, sys, math\n",
        "\n",
        "# data handling\n",
        "import pandas as pd # data processing, CSV file I/O, data manipulation as in SQL\n",
        "pd.set_option('display.float_format', lambda x: '%.4f' % x)\n",
        "import numpy as np # linear algebra\n",
        "\n",
        "# graph plotting\n",
        "import matplotlib.pyplot as plt\n",
        "import matplotlib.ticker as tkr\n",
        "import seaborn as sns \n",
        "sns.set_context(\"paper\", font_scale=1.3)\n",
        "sns.set_style('white')\n",
        "from pandas.plotting import register_matplotlib_converters\n",
        "register_matplotlib_converters()\n",
        "\n",
        "# statistics\n",
        "from scipy import stats\n",
        "from statsmodels.tsa.stattools import adfuller\n",
        "from statsmodels.tsa.stattools import pacf\n",
        "\n",
        "# machine learning\n",
        "from sklearn.model_selection import train_test_split # to split the data into two parts\n",
        "from sklearn.preprocessing import MinMaxScaler # for normalization\n",
        "from sklearn.pipeline import Pipeline # pipeline making\n",
        "from sklearn.model_selection import cross_val_score\n",
        "from sklearn.feature_selection import SelectFromModel\n",
        "from sklearn.metrics import mean_squared_error, mean_absolute_error, r2_score\n",
        "\n",
        "# deep learning\n",
        "from tensorflow.keras.layers import LSTM, Dense, Dropout\n",
        "from tensorflow.keras.models import Sequential\n",
        "from tensorflow.keras.utils import to_categorical\n",
        "from tensorflow.keras.optimizers import SGD \n",
        "from tensorflow.keras.callbacks import EarlyStopping"
      ],
      "execution_count": 0,
      "outputs": [
        {
          "output_type": "display_data",
          "data": {
            "text/html": [
              "<p style=\"color: red;\">\n",
              "The default version of TensorFlow in Colab will soon switch to TensorFlow 2.x.<br>\n",
              "We recommend you <a href=\"https://www.tensorflow.org/guide/migrate\" target=\"_blank\">upgrade</a> now \n",
              "or ensure your notebook will continue to use TensorFlow 1.x via the <code>%tensorflow_version 1.x</code> magic:\n",
              "<a href=\"https://colab.research.google.com/notebooks/tensorflow_version.ipynb\" target=\"_blank\">more info</a>.</p>\n"
            ],
            "text/plain": [
              "<IPython.core.display.HTML object>"
            ]
          },
          "metadata": {
            "tags": []
          }
        }
      ]
    },
    {
      "cell_type": "code",
      "metadata": {
        "id": "UYn4GhT28BSx",
        "colab_type": "code",
        "outputId": "2778d0ab-440d-49db-a94f-865c863bc04f",
        "colab": {
          "base_uri": "https://localhost:8080/",
          "height": 34
        }
      },
      "source": [
        "from google.colab import drive\n",
        "drive.mount('/content/drive')"
      ],
      "execution_count": 0,
      "outputs": [
        {
          "output_type": "stream",
          "text": [
            "Mounted at /content/drive\n"
          ],
          "name": "stdout"
        }
      ]
    },
    {
      "cell_type": "code",
      "metadata": {
        "id": "_8Wq2vKCirez",
        "colab_type": "code",
        "colab": {}
      },
      "source": [
        "# merged two columns 'Date' and 'Time' to 'datetime'\n",
        "# convert those data to time-series type, by convert 'datetime' as an index\n",
        "dataset_path = '/content/drive/My Drive/Colab Notebooks/household_power_consumption.csv'\n",
        "df = pd.read_csv(dataset_path, parse_dates = True, index_col = 'datetime', low_memory = False)"
      ],
      "execution_count": 0,
      "outputs": []
    },
    {
      "cell_type": "code",
      "metadata": {
        "id": "U5afdftWi476",
        "colab_type": "code",
        "outputId": "f4830b4c-15e4-429f-a2cd-3d0c22519d78",
        "colab": {
          "base_uri": "https://localhost:8080/",
          "height": 235
        }
      },
      "source": [
        "df.head()"
      ],
      "execution_count": 0,
      "outputs": [
        {
          "output_type": "execute_result",
          "data": {
            "text/html": [
              "<div>\n",
              "<style scoped>\n",
              "    .dataframe tbody tr th:only-of-type {\n",
              "        vertical-align: middle;\n",
              "    }\n",
              "\n",
              "    .dataframe tbody tr th {\n",
              "        vertical-align: top;\n",
              "    }\n",
              "\n",
              "    .dataframe thead th {\n",
              "        text-align: right;\n",
              "    }\n",
              "</style>\n",
              "<table border=\"1\" class=\"dataframe\">\n",
              "  <thead>\n",
              "    <tr style=\"text-align: right;\">\n",
              "      <th></th>\n",
              "      <th>Global_active_power</th>\n",
              "      <th>Global_reactive_power</th>\n",
              "      <th>Voltage</th>\n",
              "      <th>Global_intensity</th>\n",
              "      <th>Sub_metering_1</th>\n",
              "      <th>Sub_metering_2</th>\n",
              "      <th>Sub_metering_3</th>\n",
              "    </tr>\n",
              "    <tr>\n",
              "      <th>datetime</th>\n",
              "      <th></th>\n",
              "      <th></th>\n",
              "      <th></th>\n",
              "      <th></th>\n",
              "      <th></th>\n",
              "      <th></th>\n",
              "      <th></th>\n",
              "    </tr>\n",
              "  </thead>\n",
              "  <tbody>\n",
              "    <tr>\n",
              "      <th>2006-12-16 17:24:00</th>\n",
              "      <td>4.2160</td>\n",
              "      <td>0.4180</td>\n",
              "      <td>234.8400</td>\n",
              "      <td>18.4000</td>\n",
              "      <td>0.0000</td>\n",
              "      <td>1.0000</td>\n",
              "      <td>17.0000</td>\n",
              "    </tr>\n",
              "    <tr>\n",
              "      <th>2006-12-16 17:25:00</th>\n",
              "      <td>5.3600</td>\n",
              "      <td>0.4360</td>\n",
              "      <td>233.6300</td>\n",
              "      <td>23.0000</td>\n",
              "      <td>0.0000</td>\n",
              "      <td>1.0000</td>\n",
              "      <td>16.0000</td>\n",
              "    </tr>\n",
              "    <tr>\n",
              "      <th>2006-12-16 17:26:00</th>\n",
              "      <td>5.3740</td>\n",
              "      <td>0.4980</td>\n",
              "      <td>233.2900</td>\n",
              "      <td>23.0000</td>\n",
              "      <td>0.0000</td>\n",
              "      <td>2.0000</td>\n",
              "      <td>17.0000</td>\n",
              "    </tr>\n",
              "    <tr>\n",
              "      <th>2006-12-16 17:27:00</th>\n",
              "      <td>5.3880</td>\n",
              "      <td>0.5020</td>\n",
              "      <td>233.7400</td>\n",
              "      <td>23.0000</td>\n",
              "      <td>0.0000</td>\n",
              "      <td>1.0000</td>\n",
              "      <td>17.0000</td>\n",
              "    </tr>\n",
              "    <tr>\n",
              "      <th>2006-12-16 17:28:00</th>\n",
              "      <td>3.6660</td>\n",
              "      <td>0.5280</td>\n",
              "      <td>235.6800</td>\n",
              "      <td>15.8000</td>\n",
              "      <td>0.0000</td>\n",
              "      <td>1.0000</td>\n",
              "      <td>17.0000</td>\n",
              "    </tr>\n",
              "  </tbody>\n",
              "</table>\n",
              "</div>"
            ],
            "text/plain": [
              "                     Global_active_power  ...  Sub_metering_3\n",
              "datetime                                  ...                \n",
              "2006-12-16 17:24:00               4.2160  ...         17.0000\n",
              "2006-12-16 17:25:00               5.3600  ...         16.0000\n",
              "2006-12-16 17:26:00               5.3740  ...         17.0000\n",
              "2006-12-16 17:27:00               5.3880  ...         17.0000\n",
              "2006-12-16 17:28:00               3.6660  ...         17.0000\n",
              "\n",
              "[5 rows x 7 columns]"
            ]
          },
          "metadata": {
            "tags": []
          },
          "execution_count": 5
        }
      ]
    },
    {
      "cell_type": "code",
      "metadata": {
        "id": "vNx9rd9WjA5j",
        "colab_type": "code",
        "outputId": "2bc16e92-bcbf-4e2a-d5ac-4828efc2af70",
        "colab": {
          "base_uri": "https://localhost:8080/",
          "height": 34
        }
      },
      "source": [
        "df.shape"
      ],
      "execution_count": 0,
      "outputs": [
        {
          "output_type": "execute_result",
          "data": {
            "text/plain": [
              "(2075259, 7)"
            ]
          },
          "metadata": {
            "tags": []
          },
          "execution_count": 6
        }
      ]
    },
    {
      "cell_type": "code",
      "metadata": {
        "id": "cEPO2KCZmBEl",
        "colab_type": "code",
        "colab": {}
      },
      "source": [
        "# get values\n",
        "dataset = df.Global_active_power.values\n",
        "dataset = dataset.astype('float32')\n",
        "\n",
        "# reshape\n",
        "dataset = np.reshape(dataset, (-1, 1))\n",
        "\n",
        "# normalize\n",
        "scaler = MinMaxScaler(feature_range=(0, 1))\n",
        "dataset = scaler.fit_transform(dataset)\n",
        "\n",
        "# split data\n",
        "train_size = int(len(dataset) * 0.80)\n",
        "test_size = len(dataset) - train_size\n",
        "train, test = dataset[0:train_size,:], dataset[train_size:len(dataset),:]"
      ],
      "execution_count": 0,
      "outputs": []
    },
    {
      "cell_type": "code",
      "metadata": {
        "id": "ctPPiI6smNIo",
        "colab_type": "code",
        "outputId": "2aa72578-a2cb-496b-d3c4-14f63a95b22d",
        "colab": {
          "base_uri": "https://localhost:8080/",
          "height": 136
        }
      },
      "source": [
        "train"
      ],
      "execution_count": 0,
      "outputs": [
        {
          "output_type": "execute_result",
          "data": {
            "text/plain": [
              "array([[0.37479633],\n",
              "       [0.47836325],\n",
              "       [0.47963068],\n",
              "       ...,\n",
              "       [0.01828716],\n",
              "       [0.02426218],\n",
              "       [0.02335687]], dtype=float32)"
            ]
          },
          "metadata": {
            "tags": []
          },
          "execution_count": 8
        }
      ]
    },
    {
      "cell_type": "code",
      "metadata": {
        "id": "e3LP6vtcmSCH",
        "colab_type": "code",
        "outputId": "d97856c9-7b1c-40c0-901b-476a69a819d3",
        "colab": {
          "base_uri": "https://localhost:8080/",
          "height": 136
        }
      },
      "source": [
        "test"
      ],
      "execution_count": 0,
      "outputs": [
        {
          "output_type": "execute_result",
          "data": {
            "text/plain": [
              "array([[0.02353793],\n",
              "       [0.02335687],\n",
              "       [0.02335687],\n",
              "       ...,\n",
              "       [0.07803731],\n",
              "       [0.07767518],\n",
              "       [0.07749411]], dtype=float32)"
            ]
          },
          "metadata": {
            "tags": []
          },
          "execution_count": 9
        }
      ]
    },
    {
      "cell_type": "code",
      "metadata": {
        "id": "2aGmaON6mT7l",
        "colab_type": "code",
        "colab": {}
      },
      "source": [
        "# convert an array of values into a dataset matrix\n",
        "def create_dataset(dataset, look_back=1):\n",
        "    X, Y = [], []\n",
        "    for i in range(len(dataset)-look_back-1):\n",
        "        a = dataset[i:(i+look_back), 0]\n",
        "        X.append(a)\n",
        "        Y.append(dataset[i + look_back, 0])\n",
        "    return np.array(X), np.array(Y)"
      ],
      "execution_count": 0,
      "outputs": []
    },
    {
      "cell_type": "code",
      "metadata": {
        "id": "ARu0M3RCmXFl",
        "colab_type": "code",
        "colab": {}
      },
      "source": [
        "# reshape into X=t and Y=t+1\n",
        "look_back = 30\n",
        "X_train, Y_train = create_dataset(train, look_back)\n",
        "X_test, Y_test = create_dataset(test, look_back)"
      ],
      "execution_count": 0,
      "outputs": []
    },
    {
      "cell_type": "code",
      "metadata": {
        "id": "gPwzCJXimbkv",
        "colab_type": "code",
        "outputId": "cf365c3f-dc5a-4845-801c-2db9fcf69c34",
        "colab": {
          "base_uri": "https://localhost:8080/",
          "height": 34
        }
      },
      "source": [
        "X_train.shape"
      ],
      "execution_count": 0,
      "outputs": [
        {
          "output_type": "execute_result",
          "data": {
            "text/plain": [
              "(1660176, 30)"
            ]
          },
          "metadata": {
            "tags": []
          },
          "execution_count": 12
        }
      ]
    },
    {
      "cell_type": "code",
      "metadata": {
        "id": "Pbnujgg7mhL1",
        "colab_type": "code",
        "colab": {}
      },
      "source": [
        "# reshape input to be [samples, time steps, features]\n",
        "X_train = np.reshape(X_train, (X_train.shape[0], 1, X_train.shape[1]))\n",
        "X_test = np.reshape(X_test, (X_test.shape[0], 1, X_test.shape[1]))"
      ],
      "execution_count": 0,
      "outputs": []
    },
    {
      "cell_type": "code",
      "metadata": {
        "id": "4heeas-ymiZ5",
        "colab_type": "code",
        "outputId": "632d1541-ba2b-4ed4-f081-0fc16beda90f",
        "colab": {
          "base_uri": "https://localhost:8080/",
          "height": 34
        }
      },
      "source": [
        "X_train.shape"
      ],
      "execution_count": 0,
      "outputs": [
        {
          "output_type": "execute_result",
          "data": {
            "text/plain": [
              "(1660176, 1, 30)"
            ]
          },
          "metadata": {
            "tags": []
          },
          "execution_count": 14
        }
      ]
    },
    {
      "cell_type": "code",
      "metadata": {
        "id": "XHTmxs8pmlOz",
        "colab_type": "code",
        "outputId": "b960228c-c7ff-410b-89db-ae15e90ca8d7",
        "colab": {
          "base_uri": "https://localhost:8080/",
          "height": 1000
        }
      },
      "source": [
        "model = Sequential()\n",
        "model.add(LSTM(100, input_shape=(X_train.shape[1], X_train.shape[2])))\n",
        "model.add(Dropout(0.2))\n",
        "model.add(Dense(1))\n",
        "model.compile(loss='mean_squared_error', optimizer='adam')\n",
        "\n",
        "history = model.fit(X_train, Y_train, epochs=20, batch_size=70, validation_data=(X_test, Y_test), \n",
        "                    callbacks=[EarlyStopping(monitor='val_loss', patience=10)], verbose=1, shuffle=False)\n",
        "\n",
        "# Training Phase\n",
        "model.summary()"
      ],
      "execution_count": 0,
      "outputs": [
        {
          "output_type": "stream",
          "text": [
            "WARNING:tensorflow:From /usr/local/lib/python3.6/dist-packages/tensorflow_core/python/ops/resource_variable_ops.py:1630: calling BaseResourceVariable.__init__ (from tensorflow.python.ops.resource_variable_ops) with constraint is deprecated and will be removed in a future version.\n",
            "Instructions for updating:\n",
            "If using Keras pass *_constraint arguments to layers.\n",
            "WARNING:tensorflow:From /usr/local/lib/python3.6/dist-packages/tensorflow_core/python/ops/math_grad.py:1424: where (from tensorflow.python.ops.array_ops) is deprecated and will be removed in a future version.\n",
            "Instructions for updating:\n",
            "Use tf.where in 2.0, which has the same broadcast rule as np.where\n",
            "Train on 1660176 samples, validate on 415021 samples\n",
            "Epoch 1/20\n",
            "1660176/1660176 [==============================] - 147s 89us/sample - loss: 7.6127e-04 - val_loss: 3.9072e-04\n",
            "Epoch 2/20\n",
            "1660176/1660176 [==============================] - 143s 86us/sample - loss: 6.6105e-04 - val_loss: 3.8210e-04\n",
            "Epoch 3/20\n",
            "1660176/1660176 [==============================] - 143s 86us/sample - loss: 6.5152e-04 - val_loss: 3.8128e-04\n",
            "Epoch 4/20\n",
            "1660176/1660176 [==============================] - 141s 85us/sample - loss: 6.4457e-04 - val_loss: 3.8121e-04\n",
            "Epoch 5/20\n",
            "1660176/1660176 [==============================] - 143s 86us/sample - loss: 6.3955e-04 - val_loss: 3.8077e-04\n",
            "Epoch 6/20\n",
            "1660176/1660176 [==============================] - 140s 84us/sample - loss: 6.3599e-04 - val_loss: 3.7879e-04\n",
            "Epoch 7/20\n",
            "1660176/1660176 [==============================] - 141s 85us/sample - loss: 6.3294e-04 - val_loss: 3.7910e-04\n",
            "Epoch 8/20\n",
            "1660176/1660176 [==============================] - 141s 85us/sample - loss: 6.3259e-04 - val_loss: 3.8040e-04\n",
            "Epoch 9/20\n",
            "1660176/1660176 [==============================] - 141s 85us/sample - loss: 6.2957e-04 - val_loss: 3.7856e-04\n",
            "Epoch 10/20\n",
            "1660176/1660176 [==============================] - 140s 84us/sample - loss: 6.2859e-04 - val_loss: 3.7893e-04\n",
            "Epoch 11/20\n",
            "1660176/1660176 [==============================] - 142s 85us/sample - loss: 6.2709e-04 - val_loss: 3.7889e-04\n",
            "Epoch 12/20\n",
            "1660176/1660176 [==============================] - 141s 85us/sample - loss: 6.2660e-04 - val_loss: 3.7908e-04\n",
            "Epoch 13/20\n",
            "1660176/1660176 [==============================] - 141s 85us/sample - loss: 6.2703e-04 - val_loss: 3.7688e-04\n",
            "Epoch 14/20\n",
            "1660176/1660176 [==============================] - 141s 85us/sample - loss: 6.2496e-04 - val_loss: 3.7752e-04\n",
            "Epoch 15/20\n",
            "1660176/1660176 [==============================] - 141s 85us/sample - loss: 6.2749e-04 - val_loss: 3.7643e-04\n",
            "Epoch 16/20\n",
            "1660176/1660176 [==============================] - 141s 85us/sample - loss: 6.2341e-04 - val_loss: 3.7625e-04\n",
            "Epoch 17/20\n",
            "1660176/1660176 [==============================] - 139s 84us/sample - loss: 6.2443e-04 - val_loss: 3.7648e-04\n",
            "Epoch 18/20\n",
            "1660176/1660176 [==============================] - 140s 84us/sample - loss: 6.2086e-04 - val_loss: 3.7602e-04\n",
            "Epoch 19/20\n",
            "1660176/1660176 [==============================] - 139s 84us/sample - loss: 6.2279e-04 - val_loss: 3.7554e-04\n",
            "Epoch 20/20\n",
            "1660176/1660176 [==============================] - 138s 83us/sample - loss: 6.2243e-04 - val_loss: 3.7543e-04\n",
            "Model: \"sequential\"\n",
            "_________________________________________________________________\n",
            "Layer (type)                 Output Shape              Param #   \n",
            "=================================================================\n",
            "lstm (LSTM)                  (None, 100)               52400     \n",
            "_________________________________________________________________\n",
            "dropout (Dropout)            (None, 100)               0         \n",
            "_________________________________________________________________\n",
            "dense (Dense)                (None, 1)                 101       \n",
            "=================================================================\n",
            "Total params: 52,501\n",
            "Trainable params: 52,501\n",
            "Non-trainable params: 0\n",
            "_________________________________________________________________\n"
          ],
          "name": "stdout"
        }
      ]
    },
    {
      "cell_type": "code",
      "metadata": {
        "id": "0gov7apiu9RT",
        "colab_type": "code",
        "outputId": "80756134-de8e-4a82-f1d6-3c6307ef1aaa",
        "colab": {
          "base_uri": "https://localhost:8080/",
          "height": 85
        }
      },
      "source": [
        "# make predictions\n",
        "train_predict = model.predict(X_train)\n",
        "test_predict = model.predict(X_test)\n",
        "# invert predictions\n",
        "train_predict = scaler.inverse_transform(train_predict)\n",
        "Y_train = scaler.inverse_transform([Y_train])\n",
        "test_predict = scaler.inverse_transform(test_predict)\n",
        "Y_test = scaler.inverse_transform([Y_test])\n",
        "\n",
        "print('Train Mean Absolute Error:', mean_absolute_error(Y_train[0], train_predict[:,0]))\n",
        "print('Train Root Mean Squared Error:',np.sqrt(mean_squared_error(Y_train[0], train_predict[:,0])))\n",
        "print('Test Mean Absolute Error:', mean_absolute_error(Y_test[0], test_predict[:,0]))\n",
        "print('Test Root Mean Squared Error:',np.sqrt(mean_squared_error(Y_test[0], test_predict[:,0])))"
      ],
      "execution_count": 0,
      "outputs": [
        {
          "output_type": "stream",
          "text": [
            "Train Mean Absolute Error: 0.10317662910811236\n",
            "Train Root Mean Squared Error: 0.26531286633953105\n",
            "Test Mean Absolute Error: 0.08504515461079583\n",
            "Test Root Mean Squared Error: 0.21402822123636867\n"
          ],
          "name": "stdout"
        }
      ]
    },
    {
      "cell_type": "code",
      "metadata": {
        "id": "A5G0TJgTvLal",
        "colab_type": "code",
        "outputId": "2cec3bb5-b871-4ef8-c304-63cd7964f0d3",
        "colab": {
          "base_uri": "https://localhost:8080/",
          "height": 300
        }
      },
      "source": [
        "plt.figure(figsize=(8,4))\n",
        "plt.plot(history.history['loss'], label='Train Loss')\n",
        "plt.plot(history.history['val_loss'], label='Test Loss')\n",
        "plt.title('model loss')\n",
        "plt.ylabel('loss')\n",
        "plt.xlabel('epochs')\n",
        "plt.legend(loc='upper right')\n",
        "plt.show();"
      ],
      "execution_count": 0,
      "outputs": [
        {
          "output_type": "display_data",
          "data": {
            "image/png": "[encoded data removed]",
            "text/plain": [
              "<Figure size 576x288 with 1 Axes>"
            ]
          },
          "metadata": {
            "tags": []
          }
        }
      ]
    },
    {
      "cell_type": "code",
      "metadata": {
        "id": "7E6W8u4yvOjK",
        "colab_type": "code",
        "outputId": "76afa2f4-27fd-4aed-b391-d1d8f5ac1d62",
        "colab": {
          "base_uri": "https://localhost:8080/",
          "height": 311
        }
      },
      "source": [
        "aa=[x for x in range(200)]\n",
        "plt.figure(figsize=(8,4))\n",
        "plt.plot(aa, Y_test[0][:200], marker='.', label=\"actual\")\n",
        "plt.plot(aa, test_predict[:,0][:200], 'r', label=\"prediction\")\n",
        "# plt.tick_params(left=False, labelleft=True) #remove ticks\n",
        "plt.tight_layout()\n",
        "sns.despine(top=True)\n",
        "plt.subplots_adjust(left=0.07)\n",
        "plt.ylabel('Global_active_power', size=15)\n",
        "plt.xlabel('Time step', size=15)\n",
        "plt.legend(fontsize=15)\n",
        "plt.show();"
      ],
      "execution_count": 0,
      "outputs": [
        {
          "output_type": "display_data",
          "data": {
            "image/png": "[encoded data removed]",
            "text/plain": [
              "<Figure size 576x288 with 1 Axes>"
            ]
          },
          "metadata": {
            "tags": []
          }
        }
      ]
    }
  ]
}